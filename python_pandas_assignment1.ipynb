{
 "cells": [
  {
   "cell_type": "code",
   "execution_count": 1,
   "id": "08b3c634",
   "metadata": {},
   "outputs": [],
   "source": [
    "name = \"Ritik\"\n",
    "age = 21\n",
    "has_android_phone = True"
   ]
  },
  {
   "cell_type": "code",
   "execution_count": 2,
   "id": "852da7fa",
   "metadata": {},
   "outputs": [
    {
     "name": "stdout",
     "output_type": "stream",
     "text": [
      "Ritik 21 True\n"
     ]
    }
   ],
   "source": [
    "print(name, age, has_android_phone)"
   ]
  },
  {
   "cell_type": "code",
   "execution_count": 6,
   "id": "5afd5d9a",
   "metadata": {},
   "outputs": [
    {
     "name": "stdout",
     "output_type": "stream",
     "text": [
      "Ritik is aged 21, and owns an Android phone.\n"
     ]
    }
   ],
   "source": [
    "person = {\"Name\": name , \"Age\": age , \"HasAndroidPhone\": has_android_phone}\n",
    "\n",
    "print(\"{} is aged {}, and owns an {}.\".format(\n",
    "    person[\"Name\"], \n",
    "    person[\"Age\"], \n",
    "    \"Android phone\" if person[\"HasAndroidPhone\"] else \"iPhone\"\n",
    "))\n"
   ]
  },
  {
   "cell_type": "code",
   "execution_count": 18,
   "id": "76fe8642",
   "metadata": {},
   "outputs": [
    {
     "name": "stdout",
     "output_type": "stream",
     "text": [
      " The Name has the value Ritik of the type <class 'str'>\n",
      " The Age has the value 21 of the type <class 'int'>\n",
      " The HasAndroidPhone has the value True of the type <class 'bool'>\n"
     ]
    }
   ],
   "source": [
    "for keys in person:\n",
    "    print(\" The \"  + str(keys) + \" has the value \" + str(person[keys]) + \" of the type \" + str(type(person[keys])))"
   ]
  },
  {
   "cell_type": "code",
   "execution_count": 43,
   "id": "84039c50",
   "metadata": {},
   "outputs": [
    {
     "name": "stdout",
     "output_type": "stream",
     "text": [
      "['blue', 3, True]\n"
     ]
    }
   ],
   "source": [
    "# working with list \n",
    "\n",
    "my_list = [\"blue\", 3, True]\n",
    "print(my_list)"
   ]
  },
  {
   "cell_type": "code",
   "execution_count": 44,
   "id": "e8274b15",
   "metadata": {},
   "outputs": [
    {
     "name": "stdout",
     "output_type": "stream",
     "text": [
      "My favorite color is blue\n",
      "I have 3 pets.\n",
      "I do not have previous programming experience\n"
     ]
    }
   ],
   "source": [
    "print('My favorite color is', my_list[0])\n",
    "\n",
    "print(\"I have {} pets.\".format(my_list[1]))\n",
    "\n",
    "if my_list == True:\n",
    "    print(\"I have previous programming experience\")\n",
    "else:\n",
    "    print(\"I do not have previous programming experience\")"
   ]
  },
  {
   "cell_type": "code",
   "execution_count": 45,
   "id": "c6cc5d7b",
   "metadata": {},
   "outputs": [],
   "source": [
    "my_list.append(9)"
   ]
  },
  {
   "cell_type": "code",
   "execution_count": 46,
   "id": "90bac879",
   "metadata": {},
   "outputs": [
    {
     "name": "stdout",
     "output_type": "stream",
     "text": [
      "['blue', 3, True, 9]\n"
     ]
    }
   ],
   "source": [
    "print(my_list)"
   ]
  },
  {
   "cell_type": "code",
   "execution_count": 47,
   "id": "91bb7426",
   "metadata": {},
   "outputs": [
    {
     "data": {
      "text/plain": [
       "'blue'"
      ]
     },
     "execution_count": 47,
     "metadata": {},
     "output_type": "execute_result"
    }
   ],
   "source": [
    "my_list.pop(0)\n",
    "\n"
   ]
  },
  {
   "cell_type": "code",
   "execution_count": 48,
   "id": "94198cff",
   "metadata": {},
   "outputs": [
    {
     "name": "stdout",
     "output_type": "stream",
     "text": [
      "[3, True, 9]\n"
     ]
    }
   ],
   "source": [
    "print(my_list)"
   ]
  },
  {
   "cell_type": "code",
   "execution_count": 53,
   "id": "a7a01dae",
   "metadata": {},
   "outputs": [
    {
     "name": "stdout",
     "output_type": "stream",
     "text": [
      "The list has 3 elements.\n"
     ]
    }
   ],
   "source": [
    "print(\"The list has {} elements.\".format(len(my_list)))"
   ]
  },
  {
   "cell_type": "code",
   "execution_count": 57,
   "id": "65edb9f9",
   "metadata": {},
   "outputs": [
    {
     "name": "stdout",
     "output_type": "stream",
     "text": [
      "The sum all the numbers divisible by 7 between 18 and 534 is 20461\n"
     ]
    }
   ],
   "source": [
    "# Conditions and loops\n",
    "l = []\n",
    "for i in range(18,535):\n",
    "    if i%7 == 0:\n",
    "        l.append(i)\n",
    "sum_of_numbers = sum(l)\n",
    "\n",
    "print(\"The sum all the numbers divisible by 7 between 18 and 534 is\",sum_of_numbers)"
   ]
  },
  {
   "cell_type": "code",
   "execution_count": 59,
   "id": "f62ebc3d",
   "metadata": {},
   "outputs": [
    {
     "name": "stdout",
     "output_type": "stream",
     "text": [
      "The company makes of a profit of 800 dollars.\n"
     ]
    }
   ],
   "source": [
    "cost_of_flying_plane = 5000\n",
    "number_of_passengers = 29\n",
    "price_of_ticket = 200\n",
    "profit = (((number_of_passengers)*price_of_ticket) - cost_of_flying_plane)\n",
    "print(\"The company makes of a profit of {} dollars.\".format(profit))"
   ]
  },
  {
   "cell_type": "code",
   "execution_count": 62,
   "id": "d63c3249",
   "metadata": {
    "scrolled": true
   },
   "outputs": [
    {
     "name": "stdout",
     "output_type": "stream",
     "text": [
      "The company makes an overall loss of 2600 dollars.\n"
     ]
    }
   ],
   "source": [
    "return_passengers = 12 \n",
    "profit = (((return_passengers)*price_of_ticket) - cost_of_flying_plane)\n",
    "if profit > 0:\n",
    "    print(\"The company makes an overall profit of {} dollars.\".format(profit))\n",
    "else:\n",
    "    print(\"The company makes an overall loss of {} dollars.\".format(abs(profit)))"
   ]
  },
  {
   "cell_type": "code",
   "execution_count": 63,
   "id": "a599f5e3",
   "metadata": {},
   "outputs": [],
   "source": [
    "# Problem 5\n",
    "\n",
    "tweets = [\n",
    "    \"Wow, what a great day today!! #sunshine\",\n",
    "    \"I feel sad about the things going on around us. #covid19\",\n",
    "    \"I'm really excited to learn Python with @JovianML #zerotopandas\",\n",
    "    \"This is a really nice song. #linkinpark\",\n",
    "    \"The python programming language is useful for data science\",\n",
    "    \"Why do bad things happen to me?\",\n",
    "    \"Apple announces the release of the new iPhone 12. Fans are excited.\",\n",
    "    \"Spent my day with family!! #happy\",\n",
    "    \"Check out my blog post on common string operations in Python. #zerotopandas\",\n",
    "    \"Freecodecamp has great coding tutorials. #skillup\"\n",
    "]"
   ]
  },
  {
   "cell_type": "code",
   "execution_count": 65,
   "id": "ca157b79",
   "metadata": {},
   "outputs": [
    {
     "name": "stdout",
     "output_type": "stream",
     "text": [
      "10\n"
     ]
    }
   ],
   "source": [
    "number_of_tweets = len(tweets)\n",
    "print(number_of_tweets)"
   ]
  },
  {
   "cell_type": "code",
   "execution_count": 66,
   "id": "2dc86d77",
   "metadata": {},
   "outputs": [],
   "source": [
    "happy_words = ['great', 'excited', 'happy', 'nice', 'wonderful', 'amazing', 'good', 'best']\n",
    "sad_words = ['sad', 'bad', 'tragic', 'unhappy', 'worst']"
   ]
  },
  {
   "cell_type": "code",
   "execution_count": 71,
   "id": "3dc5229c",
   "metadata": {},
   "outputs": [
    {
     "data": {
      "text/plain": [
       "True"
      ]
     },
     "execution_count": 71,
     "metadata": {},
     "output_type": "execute_result"
    }
   ],
   "source": [
    "sample_tweet = tweets[0]\n",
    "sample_tweet\n",
    "is_tweet_happy = False\n",
    "\n",
    "# Get a word from happy_words\n",
    "for word in happy_words:\n",
    "    # Check if the tweet contains the word\n",
    "    if word in sample_tweet:\n",
    "        # Word found! Mark the tweet as happy\n",
    "        is_tweet_happy = True\n",
    "is_tweet_happy"
   ]
  },
  {
   "cell_type": "code",
   "execution_count": 82,
   "id": "e0d64539",
   "metadata": {},
   "outputs": [
    {
     "name": "stdout",
     "output_type": "stream",
     "text": [
      "6\n"
     ]
    }
   ],
   "source": [
    "number_of_happy_tweets = 0\n",
    "for i in range(len(tweets)):\n",
    "    #print(tweets[i])\n",
    "    for words in happy_words:\n",
    "        if words in tweets[i]:\n",
    "            number_of_happy_tweets += 1\n",
    "print(number_of_happy_tweets)\n",
    "    "
   ]
  },
  {
   "cell_type": "code",
   "execution_count": 88,
   "id": "28930019",
   "metadata": {},
   "outputs": [
    {
     "name": "stdout",
     "output_type": "stream",
     "text": [
      "The fractions of happy tweets is: 0.6\n"
     ]
    }
   ],
   "source": [
    "happy_fraction = number_of_happy_tweets/ len(tweets)\n",
    "print(\"The fractions of happy tweets is:\", happy_fraction)"
   ]
  },
  {
   "cell_type": "code",
   "execution_count": 89,
   "id": "b233d33d",
   "metadata": {},
   "outputs": [
    {
     "name": "stdout",
     "output_type": "stream",
     "text": [
      "2\n"
     ]
    }
   ],
   "source": [
    "number_of_sad_tweets = 0\n",
    "for i in range(len(tweets)):\n",
    "    #print(tweets[i])\n",
    "    for words in sad_words:\n",
    "        if words in tweets[i]:\n",
    "            number_of_sad_tweets += 1\n",
    "print(number_of_sad_tweets)\n",
    "    "
   ]
  },
  {
   "cell_type": "code",
   "execution_count": 91,
   "id": "c8fb8fcd",
   "metadata": {},
   "outputs": [
    {
     "name": "stdout",
     "output_type": "stream",
     "text": [
      "The fractions of sad tweets is: 0.2\n"
     ]
    }
   ],
   "source": [
    "sad_fraction = number_of_sad_tweets/len(tweets)\n",
    "print(\"The fractions of sad tweets is:\",sad_fraction)"
   ]
  },
  {
   "cell_type": "code",
   "execution_count": 92,
   "id": "3f83450d",
   "metadata": {},
   "outputs": [
    {
     "name": "stdout",
     "output_type": "stream",
     "text": [
      "The sentiment score for the given tweets is 0.39999999999999997\n"
     ]
    }
   ],
   "source": [
    "sentiment_score = happy_fraction - sad_fraction\n",
    "print(\"The sentiment score for the given tweets is\", sentiment_score)"
   ]
  },
  {
   "cell_type": "code",
   "execution_count": 93,
   "id": "87b9853f",
   "metadata": {},
   "outputs": [
    {
     "name": "stdout",
     "output_type": "stream",
     "text": [
      "The overall sentiment is happy\n"
     ]
    }
   ],
   "source": [
    "if sentiment_score>0:\n",
    "    print(\"The overall sentiment is happy\")\n",
    "else:\n",
    "    print(\"The overall sentiment is sad\")"
   ]
  },
  {
   "cell_type": "code",
   "execution_count": 95,
   "id": "b9768747",
   "metadata": {},
   "outputs": [
    {
     "name": "stdout",
     "output_type": "stream",
     "text": [
      "2\n"
     ]
    }
   ],
   "source": [
    "number_of_neutral_tweets = len(tweets) - number_of_happy_tweets - number_of_sad_tweets\n",
    "print(number_of_neutral_tweets)"
   ]
  },
  {
   "cell_type": "code",
   "execution_count": 98,
   "id": "5e092c7d",
   "metadata": {},
   "outputs": [
    {
     "name": "stdout",
     "output_type": "stream",
     "text": [
      "The fraction of neutral tweets is 0.2\n"
     ]
    }
   ],
   "source": [
    "neutral_fraction = number_of_neutral_tweets/len(tweets)\n",
    "print('The fraction of neutral tweets is',neutral_fraction)"
   ]
  },
  {
   "cell_type": "code",
   "execution_count": 99,
   "id": "e2fffdc3",
   "metadata": {},
   "outputs": [],
   "source": []
  },
  {
   "cell_type": "code",
   "execution_count": 100,
   "id": "3588895d",
   "metadata": {},
   "outputs": [
    {
     "data": {
      "application/javascript": [
       "if (window.IPython && IPython.notebook.kernel) IPython.notebook.kernel.execute('jovian.utils.jupyter.get_notebook_name_saved = lambda: \"' + IPython.notebook.notebook_name + '\"')"
      ],
      "text/plain": [
       "<IPython.core.display.Javascript object>"
      ]
     },
     "metadata": {},
     "output_type": "display_data"
    }
   ],
   "source": [
    "\n"
   ]
  },
  {
   "cell_type": "code",
   "execution_count": null,
   "id": "b1328137",
   "metadata": {},
   "outputs": [],
   "source": []
  }
 ],
 "metadata": {
  "kernelspec": {
   "display_name": "Python 3",
   "language": "python",
   "name": "python3"
  },
  "language_info": {
   "codemirror_mode": {
    "name": "ipython",
    "version": 3
   },
   "file_extension": ".py",
   "mimetype": "text/x-python",
   "name": "python",
   "nbconvert_exporter": "python",
   "pygments_lexer": "ipython3",
   "version": "3.8.8"
  }
 },
 "nbformat": 4,
 "nbformat_minor": 5
}
